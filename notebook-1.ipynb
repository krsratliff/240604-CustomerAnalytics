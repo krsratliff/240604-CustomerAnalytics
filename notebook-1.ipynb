{
 "cells": [
  {
   "cell_type": "markdown",
   "id": "dd9bb09e-4d0f-47ec-9927-3eab179bb3e8",
   "metadata": {},
   "source": [
    "# Introduction"
   ]
  },
  {
   "cell_type": "markdown",
   "id": "a09e6d54-bf3f-4632-b299-bd49d5c80d5f",
   "metadata": {},
   "source": [
    "![Two data scientists working on a dashboard.](hr-image-small.png)\n",
    "\n",
    "A common problem when creating models to generate business value from data is that the datasets can be so large that it can take days for the model to generate predictions. Ensuring that your dataset is stored as efficiently as possible is crucial for allowing these models to run on a more reasonable timescale without having to reduce the size of the dataset.\n",
    "\n",
    "You've been hired by a major online data science training provider called *Training Data Ltd.* to clean up one of their largest customer datasets. This dataset will eventually be used to predict whether their students are looking for a new job or not, information that they will then use to direct them to prospective recruiters.\n",
    "\n",
    "You've been given access to `customer_train.csv`, which is a subset of their entire customer dataset, so you can create a proof-of-concept of a much more efficient storage solution. The dataset contains anonymized student information, and whether they were looking for a new job or not during training:\n",
    "\n",
    "| Column                   | Description                                                                      |\n",
    "|------------------------- |--------------------------------------------------------------------------------- |\n",
    "| `student_id`             | A unique ID for each student.                                                    |\n",
    "| `city`                   | A code for the city the student lives in.                                        |\n",
    "| `city_development_index` | A scaled development index for the city.                                         |\n",
    "| `gender`                 | The student's gender.                                                            |\n",
    "| `relevant_experience`    | An indicator of the student's work relevant experience.                          |\n",
    "| `enrolled_university`    | The type of university course enrolled in (if any).                              |\n",
    "| `education_level`        | The student's education level.                                                   |\n",
    "| `major_discipline`       | The educational discipline of the student.                                       |\n",
    "| `experience`             | The student's total work experience (in years).                                  |\n",
    "| `company_size`           | The number of employees at the student's current employer.                       |\n",
    "| `company_type`           | The type of company employing the student.                                       |\n",
    "| `last_new_job`           | The number of years between the student's current and previous jobs.             |\n",
    "| `training_hours`         | The number of hours of training completed.                                       |\n",
    "| `job_change`             | An indicator of whether the student is looking for a new job (`1`) or not (`0`). |"
   ]
  },
  {
   "cell_type": "markdown",
   "id": "61306fd4-7dc1-41d9-8b96-a40f82a64254",
   "metadata": {},
   "source": [
    "# Tasks"
   ]
  },
  {
   "cell_type": "markdown",
   "id": "eb0d3fd3-0a3c-4c16-b217-567657128254",
   "metadata": {},
   "source": [
    "The Head Data Scientist at Training Data Ltd. has asked you to create a DataFrame called `ds_jobs_transformed` that stores the data in `customer_train.csv` much more efficiently. Specifically, they have set the following requirements:\n",
    "\n",
    "- [x] Columns containing categories with only two factors must be stored as Booleans (`bool`).\n",
    "- [x] Columns containing integers *only* must be stored as 32-bit integers (`int32`).\n",
    "- [x] Columns containing floats must be stored as 16-bit floats (`float16`).\n",
    "- [x] Columns containing nominal categorical data must be stored as the `category` data type.\n",
    "- [x] Columns containing ordinal categorical data must be stored as *ordered categories*, and not mapped to numerical values, with an order that reflects the natural order of the column.\n",
    "- [x] The DataFrame should be filtered to only contain students with *10 or more years of experience* at companies with *at least 1000 employees*, as their recruiter base is suited to more experienced professionals at enterprise companies.\n",
    "\n",
    "If you call `.info()` or `.memory_usage()` methods on `ds_jobs` and `ds_jobs_transformed` after you've preprocessed it, you should notice a substantial decrease in memory usage."
   ]
  },
  {
   "cell_type": "markdown",
   "id": "bc08d052-e42f-4078-9ab2-bcff4cfb9ffa",
   "metadata": {},
   "source": [
    "# Importing and a first look"
   ]
  },
  {
   "cell_type": "code",
   "execution_count": 1,
   "id": "a3dc9443-01ad-4e18-bce0-d9c5adcb13fc",
   "metadata": {},
   "outputs": [],
   "source": [
    "import pandas as pd\n",
    "import numpy as np"
   ]
  },
  {
   "cell_type": "code",
   "execution_count": 2,
   "id": "eda9c1b2-4e9a-41ac-8da6-d4c98775f986",
   "metadata": {
    "executionCancelledAt": null,
    "executionTime": null,
    "lastExecutedAt": null,
    "lastExecutedByKernel": null,
    "lastScheduledRunId": null,
    "lastSuccessfullyExecutedCode": null,
    "outputsMetadata": {
     "0": {
      "height": 196,
      "type": "dataFrame"
     }
    }
   },
   "outputs": [],
   "source": [
    "ds_jobs = pd.read_csv(\"customer_train.csv\")\n",
    "ds_jobs_transformed = ds_jobs.copy()"
   ]
  },
  {
   "cell_type": "code",
   "execution_count": 3,
   "id": "35a39fee-73c2-41fd-907c-bac54ee0bf01",
   "metadata": {},
   "outputs": [
    {
     "name": "stdout",
     "output_type": "stream",
     "text": [
      "<class 'pandas.core.frame.DataFrame'>\n",
      "RangeIndex: 19158 entries, 0 to 19157\n",
      "Data columns (total 14 columns):\n",
      " #   Column                  Non-Null Count  Dtype  \n",
      "---  ------                  --------------  -----  \n",
      " 0   student_id              19158 non-null  int64  \n",
      " 1   city                    19158 non-null  object \n",
      " 2   city_development_index  19158 non-null  float64\n",
      " 3   gender                  14650 non-null  object \n",
      " 4   relevant_experience     19158 non-null  object \n",
      " 5   enrolled_university     18772 non-null  object \n",
      " 6   education_level         18698 non-null  object \n",
      " 7   major_discipline        16345 non-null  object \n",
      " 8   experience              19093 non-null  object \n",
      " 9   company_size            13220 non-null  object \n",
      " 10  company_type            13018 non-null  object \n",
      " 11  last_new_job            18735 non-null  object \n",
      " 12  training_hours          19158 non-null  int64  \n",
      " 13  job_change              19158 non-null  float64\n",
      "dtypes: float64(2), int64(2), object(10)\n",
      "memory usage: 2.0+ MB\n"
     ]
    }
   ],
   "source": [
    "ds_jobs.info()"
   ]
  },
  {
   "cell_type": "code",
   "execution_count": 4,
   "id": "a6e5d35a-0f54-4c8e-b161-dfed6286404a",
   "metadata": {},
   "outputs": [
    {
     "data": {
      "text/plain": [
       "student_id                19158\n",
       "city                        123\n",
       "city_development_index       93\n",
       "gender                        3\n",
       "relevant_experience           2\n",
       "enrolled_university           3\n",
       "education_level               5\n",
       "major_discipline              6\n",
       "experience                   22\n",
       "company_size                  8\n",
       "company_type                  6\n",
       "last_new_job                  6\n",
       "training_hours              241\n",
       "job_change                    2\n",
       "dtype: int64"
      ]
     },
     "execution_count": 4,
     "metadata": {},
     "output_type": "execute_result"
    }
   ],
   "source": [
    "ds_jobs.nunique()"
   ]
  },
  {
   "cell_type": "markdown",
   "id": "5b683922-1b80-4ef9-be88-e49632df866e",
   "metadata": {},
   "source": [
    "# Boolean coding"
   ]
  },
  {
   "cell_type": "markdown",
   "id": "c19c83af-fd6e-4deb-a343-aca7a4ebe7f7",
   "metadata": {},
   "source": [
    "First task: \n",
    "\n",
    "- Columns containing categories with only two factors must be stored as Booleans (`bool`)."
   ]
  },
  {
   "cell_type": "markdown",
   "id": "f3966cb5-a8e9-466e-ba50-2d00c9c7bc51",
   "metadata": {},
   "source": [
    "## Showing the columns with only two factors"
   ]
  },
  {
   "cell_type": "code",
   "execution_count": 5,
   "id": "4e3e640b-f704-4edf-8651-366b41295170",
   "metadata": {},
   "outputs": [
    {
     "data": {
      "text/plain": [
       "relevant_experience    2\n",
       "job_change             2\n",
       "dtype: int64"
      ]
     },
     "execution_count": 5,
     "metadata": {},
     "output_type": "execute_result"
    }
   ],
   "source": [
    "ds_jobs.nunique()[\n",
    "    ds_jobs.nunique() == 2\n",
    "]"
   ]
  },
  {
   "cell_type": "code",
   "execution_count": 6,
   "id": "cbd1dc85-da81-45c6-94cf-6976381dd744",
   "metadata": {},
   "outputs": [
    {
     "data": {
      "text/plain": [
       "array(['Has relevant experience', 'No relevant experience'], dtype=object)"
      ]
     },
     "execution_count": 6,
     "metadata": {},
     "output_type": "execute_result"
    }
   ],
   "source": [
    "ds_jobs['relevant_experience'].unique()"
   ]
  },
  {
   "cell_type": "code",
   "execution_count": 7,
   "id": "aaf19840-8f74-4cc9-bda7-1d2005f7afef",
   "metadata": {},
   "outputs": [
    {
     "data": {
      "text/plain": [
       "array([1., 0.])"
      ]
     },
     "execution_count": 7,
     "metadata": {},
     "output_type": "execute_result"
    }
   ],
   "source": [
    "ds_jobs['job_change'].unique()"
   ]
  },
  {
   "cell_type": "markdown",
   "id": "36a4823a-b46e-4ced-9482-2a337c9055ec",
   "metadata": {},
   "source": [
    "## Changing the columns"
   ]
  },
  {
   "cell_type": "code",
   "execution_count": 8,
   "id": "5c8e2829-2e5e-41c9-9137-06117221ad31",
   "metadata": {},
   "outputs": [],
   "source": [
    "ds_jobs_transformed['relevant_experience'] = np.where(\n",
    "    ds_jobs['relevant_experience'] == 'Has relevant experience',\n",
    "    True, False)"
   ]
  },
  {
   "cell_type": "code",
   "execution_count": 9,
   "id": "bd293512-683e-4129-8725-d89d471a743d",
   "metadata": {},
   "outputs": [
    {
     "data": {
      "text/plain": [
       "dtype('bool')"
      ]
     },
     "execution_count": 9,
     "metadata": {},
     "output_type": "execute_result"
    }
   ],
   "source": [
    "ds_jobs_transformed['relevant_experience'].dtype"
   ]
  },
  {
   "cell_type": "code",
   "execution_count": 10,
   "id": "20db10e0-2032-4694-a359-cd157ab38016",
   "metadata": {},
   "outputs": [],
   "source": [
    "ds_jobs_transformed['job_change'] = np.where(\n",
    "    ds_jobs['job_change'] == 1,\n",
    "    True, False\n",
    ")"
   ]
  },
  {
   "cell_type": "code",
   "execution_count": 11,
   "id": "b9c09021-3289-451f-a3c7-8e12b900ea57",
   "metadata": {},
   "outputs": [
    {
     "data": {
      "text/plain": [
       "dtype('bool')"
      ]
     },
     "execution_count": 11,
     "metadata": {},
     "output_type": "execute_result"
    }
   ],
   "source": [
    "ds_jobs_transformed['job_change'].dtype"
   ]
  },
  {
   "cell_type": "markdown",
   "id": "97f6f712-688f-4952-bc8c-1bdf2a29adea",
   "metadata": {},
   "source": [
    "# int and float columns"
   ]
  },
  {
   "cell_type": "markdown",
   "id": "a477590f-64cd-48cf-967f-49be2b8207a9",
   "metadata": {},
   "source": [
    "Next tasks:\n",
    "- Columns containing integers *only* must be stored as 32-bit integers (`int32`).\n",
    "- Columns containing floats must be stored as 16-bit floats (`float16`)."
   ]
  },
  {
   "cell_type": "code",
   "execution_count": 12,
   "id": "c4280375-0877-457a-b08e-9217fe8119fd",
   "metadata": {},
   "outputs": [
    {
     "data": {
      "text/plain": [
       "student_id                  int64\n",
       "city                       object\n",
       "city_development_index    float64\n",
       "gender                     object\n",
       "relevant_experience          bool\n",
       "enrolled_university        object\n",
       "education_level            object\n",
       "major_discipline           object\n",
       "experience                 object\n",
       "company_size               object\n",
       "company_type               object\n",
       "last_new_job               object\n",
       "training_hours              int64\n",
       "job_change                   bool\n",
       "dtype: object"
      ]
     },
     "execution_count": 12,
     "metadata": {},
     "output_type": "execute_result"
    }
   ],
   "source": [
    "ds_jobs_transformed.dtypes"
   ]
  },
  {
   "cell_type": "code",
   "execution_count": 13,
   "id": "c7a386c2-d80e-442b-b803-6500dbd98189",
   "metadata": {},
   "outputs": [],
   "source": [
    "int_cols = ['student_id', 'training_hours']\n",
    "\n",
    "for col in int_cols:\n",
    "    ds_jobs_transformed[col] = ds_jobs[col].astype('int32')"
   ]
  },
  {
   "cell_type": "code",
   "execution_count": 14,
   "id": "b4d7d0f7-8c1c-4d79-b819-bb101458cfda",
   "metadata": {},
   "outputs": [],
   "source": [
    "float_cols = ['city_development_index']\n",
    "\n",
    "for col in float_cols:\n",
    "    ds_jobs_transformed[col] = ds_jobs[col].astype('float16')"
   ]
  },
  {
   "cell_type": "markdown",
   "id": "487dd083-c488-4a5d-a406-cfcc5a1feb6e",
   "metadata": {},
   "source": [
    "# Categorical columns"
   ]
  },
  {
   "cell_type": "markdown",
   "id": "54851d82-b218-4d9b-a96d-eadcdaae2c8e",
   "metadata": {},
   "source": [
    "Next tasks:\n",
    "- Columns containing nominal categorical data must be stored as the `category` data type.\n",
    "- Columns containing ordinal categorical data must be stored as *ordered categories*, and not mapped to numerical values, with an order that reflects the natural order of the column."
   ]
  },
  {
   "cell_type": "code",
   "execution_count": 15,
   "id": "da6f87c6-9e87-4976-b2f4-8a353bd7dde5",
   "metadata": {},
   "outputs": [
    {
     "data": {
      "text/plain": [
       "student_id                  int32\n",
       "city                       object\n",
       "city_development_index    float16\n",
       "gender                     object\n",
       "relevant_experience          bool\n",
       "enrolled_university        object\n",
       "education_level            object\n",
       "major_discipline           object\n",
       "experience                 object\n",
       "company_size               object\n",
       "company_type               object\n",
       "last_new_job               object\n",
       "training_hours              int32\n",
       "job_change                   bool\n",
       "dtype: object"
      ]
     },
     "execution_count": 15,
     "metadata": {},
     "output_type": "execute_result"
    }
   ],
   "source": [
    "ds_jobs_transformed.dtypes"
   ]
  },
  {
   "cell_type": "markdown",
   "id": "49a5c4fc-c3ce-4eab-9258-6753b62d3dcd",
   "metadata": {},
   "source": [
    "## Nominal categorical data"
   ]
  },
  {
   "cell_type": "code",
   "execution_count": 16,
   "id": "fe48f9c7-0b31-424d-8b90-f9fe0a01c076",
   "metadata": {},
   "outputs": [],
   "source": [
    "nom_cat_cols = [\n",
    "    'city', \n",
    "    'gender', \n",
    "    'major_discipline', \n",
    "    'company_type'\n",
    "]"
   ]
  },
  {
   "cell_type": "code",
   "execution_count": 17,
   "id": "e500054e-3551-495d-9677-06b2e17e8337",
   "metadata": {},
   "outputs": [],
   "source": [
    "for col in nom_cat_cols:\n",
    "    ds_jobs_transformed[col] = ds_jobs[col].astype('category')"
   ]
  },
  {
   "cell_type": "code",
   "execution_count": 19,
   "id": "26e4bdf0-d3aa-472c-971e-69b679d201f7",
   "metadata": {},
   "outputs": [
    {
     "name": "stdout",
     "output_type": "stream",
     "text": [
      "<class 'pandas.core.frame.DataFrame'>\n",
      "RangeIndex: 19158 entries, 0 to 19157\n",
      "Data columns (total 14 columns):\n",
      " #   Column                  Non-Null Count  Dtype   \n",
      "---  ------                  --------------  -----   \n",
      " 0   student_id              19158 non-null  int32   \n",
      " 1   city                    19158 non-null  category\n",
      " 2   city_development_index  19158 non-null  float16 \n",
      " 3   gender                  14650 non-null  category\n",
      " 4   relevant_experience     19158 non-null  bool    \n",
      " 5   enrolled_university     18772 non-null  category\n",
      " 6   education_level         18698 non-null  object  \n",
      " 7   major_discipline        16345 non-null  category\n",
      " 8   experience              19093 non-null  object  \n",
      " 9   company_size            13220 non-null  object  \n",
      " 10  company_type            13018 non-null  category\n",
      " 11  last_new_job            18735 non-null  object  \n",
      " 12  training_hours          19158 non-null  int32   \n",
      " 13  job_change              19158 non-null  bool    \n",
      "dtypes: bool(2), category(5), float16(1), int32(2), object(4)\n",
      "memory usage: 922.6+ KB\n"
     ]
    }
   ],
   "source": [
    "ds_jobs_transformed.info()"
   ]
  },
  {
   "cell_type": "markdown",
   "id": "7e544c7e-2fc8-49fe-91e2-b498d17bec3e",
   "metadata": {},
   "source": [
    "## Ordinal categorical data"
   ]
  },
  {
   "cell_type": "markdown",
   "id": "0841384d-7bac-46cb-94a7-3e79502375aa",
   "metadata": {},
   "source": [
    "### Enrolled in university"
   ]
  },
  {
   "cell_type": "code",
   "execution_count": 33,
   "id": "4834e0ef-454e-4742-9507-b5ab66194ef6",
   "metadata": {},
   "outputs": [
    {
     "data": {
      "text/plain": [
       "enrolled_university\n",
       "no_enrollment       13817\n",
       "Full time course     3757\n",
       "Part time course     1198\n",
       "Name: count, dtype: int64"
      ]
     },
     "execution_count": 33,
     "metadata": {},
     "output_type": "execute_result"
    }
   ],
   "source": [
    "ds_jobs['enrolled_university'].value_counts()"
   ]
  },
  {
   "cell_type": "code",
   "execution_count": 34,
   "id": "e7a77686-cf08-4321-af77-23bb369667e6",
   "metadata": {},
   "outputs": [],
   "source": [
    "enrolled_university_vals = ['no_enrollment', 'Part time course', 'Full time course']\n",
    "\n",
    "ds_jobs_transformed['enrolled_university'] = ds_jobs['enrolled_university'].astype('category')\n",
    "\n",
    "ds_jobs_transformed['enrolled_university'] =\\\n",
    "    ds_jobs_transformed['enrolled_university'].cat.reorder_categories(\n",
    "        new_categories = enrolled_university_vals,\n",
    "        ordered=True\n",
    "    )"
   ]
  },
  {
   "cell_type": "markdown",
   "id": "fa61d454-4706-4761-9374-1a4ef5694388",
   "metadata": {},
   "source": [
    "### Education level"
   ]
  },
  {
   "cell_type": "code",
   "execution_count": 20,
   "id": "22ae4537-4503-4235-9f47-fd00f2831ae2",
   "metadata": {},
   "outputs": [
    {
     "data": {
      "text/plain": [
       "education_level\n",
       "Graduate          11598\n",
       "Masters            4361\n",
       "High School        2017\n",
       "Phd                 414\n",
       "Primary School      308\n",
       "Name: count, dtype: int64"
      ]
     },
     "execution_count": 20,
     "metadata": {},
     "output_type": "execute_result"
    }
   ],
   "source": [
    "ds_jobs['education_level'].value_counts()"
   ]
  },
  {
   "cell_type": "code",
   "execution_count": 21,
   "id": "78f6dfd6-93d4-411d-9de9-465c7732d0ec",
   "metadata": {},
   "outputs": [],
   "source": [
    "education_levels = ['Primary School', 'High School', 'Graduate', 'Masters', 'Phd']\n",
    "\n",
    "ds_jobs_transformed['education_level'] = ds_jobs['education_level'].astype('category')\n",
    "\n",
    "ds_jobs_transformed[\n",
    "    'education_level'\n",
    "] = ds_jobs_transformed[\n",
    "    'education_level'\n",
    "].cat.reorder_categories(\n",
    "    new_categories = education_levels,\n",
    "    ordered=True\n",
    ")"
   ]
  },
  {
   "cell_type": "markdown",
   "id": "d690d6b8-abdc-4bde-a47a-abf2d2c28722",
   "metadata": {},
   "source": [
    "### Experience"
   ]
  },
  {
   "cell_type": "code",
   "execution_count": 22,
   "id": "3bcdeb78-2ab6-4457-b222-a7b50b38d40f",
   "metadata": {},
   "outputs": [
    {
     "data": {
      "text/plain": [
       "experience\n",
       ">20    3286\n",
       "5      1430\n",
       "4      1403\n",
       "3      1354\n",
       "6      1216\n",
       "2      1127\n",
       "7      1028\n",
       "10      985\n",
       "9       980\n",
       "8       802\n",
       "15      686\n",
       "11      664\n",
       "14      586\n",
       "1       549\n",
       "<1      522\n",
       "16      508\n",
       "12      494\n",
       "13      399\n",
       "17      342\n",
       "19      304\n",
       "18      280\n",
       "20      148\n",
       "Name: count, dtype: int64"
      ]
     },
     "execution_count": 22,
     "metadata": {},
     "output_type": "execute_result"
    }
   ],
   "source": [
    "ds_jobs['experience'].value_counts()"
   ]
  },
  {
   "cell_type": "code",
   "execution_count": 23,
   "id": "4b097ca4-6378-45be-819f-71e3aed4b101",
   "metadata": {},
   "outputs": [],
   "source": [
    "experience_levels = ['<1'] +\\\n",
    "    [str(n) for n in range(1,21)] +\\\n",
    "    ['>20']\n",
    "\n",
    "ds_jobs_transformed['experience'] = ds_jobs['experience'].astype('category')\n",
    "\n",
    "ds_jobs_transformed[\n",
    "    'experience'\n",
    "] = ds_jobs_transformed[\n",
    "    'experience'\n",
    "].cat.reorder_categories(\n",
    "    new_categories = experience_levels,\n",
    "    ordered=True\n",
    ")"
   ]
  },
  {
   "cell_type": "code",
   "execution_count": 24,
   "id": "6079488b-f17f-4737-9b71-cab38375ee3c",
   "metadata": {},
   "outputs": [
    {
     "data": {
      "text/plain": [
       "0        >20\n",
       "1         15\n",
       "2          5\n",
       "3         <1\n",
       "4        >20\n",
       "        ... \n",
       "19153     14\n",
       "19154     14\n",
       "19155    >20\n",
       "19156     <1\n",
       "19157      2\n",
       "Name: experience, Length: 19158, dtype: category\n",
       "Categories (22, object): ['<1' < '1' < '2' < '3' ... '18' < '19' < '20' < '>20']"
      ]
     },
     "execution_count": 24,
     "metadata": {},
     "output_type": "execute_result"
    }
   ],
   "source": [
    "ds_jobs_transformed['experience']"
   ]
  },
  {
   "cell_type": "markdown",
   "id": "fbfcfe4b-e4cf-477f-8dc4-e765d7682ffa",
   "metadata": {},
   "source": [
    "### Company size"
   ]
  },
  {
   "cell_type": "code",
   "execution_count": 25,
   "id": "515dec95-872d-4006-8652-584dcbb404af",
   "metadata": {},
   "outputs": [
    {
     "data": {
      "text/plain": [
       "company_size\n",
       "50-99        3083\n",
       "100-499      2571\n",
       "10000+       2019\n",
       "10-49        1471\n",
       "1000-4999    1328\n",
       "<10          1308\n",
       "500-999       877\n",
       "5000-9999     563\n",
       "Name: count, dtype: int64"
      ]
     },
     "execution_count": 25,
     "metadata": {},
     "output_type": "execute_result"
    }
   ],
   "source": [
    "ds_jobs['company_size'].value_counts()"
   ]
  },
  {
   "cell_type": "code",
   "execution_count": 26,
   "id": "943e7314-3748-48cd-bc80-b8e4403a3ed2",
   "metadata": {},
   "outputs": [
    {
     "data": {
      "text/plain": [
       "0            NaN\n",
       "1          50-99\n",
       "2            NaN\n",
       "3            NaN\n",
       "4          50-99\n",
       "          ...   \n",
       "19153        NaN\n",
       "19154        NaN\n",
       "19155      50-99\n",
       "19156    500-999\n",
       "19157        NaN\n",
       "Name: company_size, Length: 19158, dtype: category\n",
       "Categories (8, object): ['<10' < '10-49' < '50-99' < '100-499' < '500-999' < '1000-4999' < '5000-9999' < '10000+']"
      ]
     },
     "execution_count": 26,
     "metadata": {},
     "output_type": "execute_result"
    }
   ],
   "source": [
    "company_sizes = [\n",
    "    '<10',\n",
    "    '10-49',\n",
    "    '50-99',\n",
    "    '100-499',\n",
    "    '500-999',\n",
    "    '1000-4999',\n",
    "    '5000-9999',\n",
    "    '10000+'\n",
    "]\n",
    "\n",
    "ds_jobs_transformed['company_size'] = ds_jobs['company_size'].astype('category')\n",
    "\n",
    "ds_jobs_transformed[\n",
    "    'company_size'\n",
    "] = ds_jobs_transformed[\n",
    "    'company_size'\n",
    "].cat.reorder_categories(new_categories = company_sizes, ordered=True)\n",
    "\n",
    "ds_jobs_transformed['company_size']"
   ]
  },
  {
   "cell_type": "markdown",
   "id": "2d7c0a0e-0b14-4ff8-a748-652a06970a49",
   "metadata": {},
   "source": [
    "### Last new job"
   ]
  },
  {
   "cell_type": "code",
   "execution_count": 27,
   "id": "f6b5a2dd-4b8e-4419-9879-9a338bc467e2",
   "metadata": {},
   "outputs": [
    {
     "data": {
      "text/plain": [
       "last_new_job\n",
       "1        8040\n",
       ">4       3290\n",
       "2        2900\n",
       "never    2452\n",
       "4        1029\n",
       "3        1024\n",
       "Name: count, dtype: int64"
      ]
     },
     "execution_count": 27,
     "metadata": {},
     "output_type": "execute_result"
    }
   ],
   "source": [
    "ds_jobs['last_new_job'].value_counts()"
   ]
  },
  {
   "cell_type": "code",
   "execution_count": 28,
   "id": "029c66c1-10e6-48ae-9a79-431180f85bd3",
   "metadata": {},
   "outputs": [],
   "source": [
    "last_new_job_durations = ['never'] + [str(n) for n in range(1,5)] + ['>4']\n",
    "\n",
    "ds_jobs_transformed['last_new_job'] = ds_jobs['last_new_job'].astype('category')\n",
    "\n",
    "ds_jobs_transformed['last_new_job'] = ds_jobs_transformed['last_new_job'].cat.reorder_categories(\n",
    "    new_categories = last_new_job_durations,\n",
    "    ordered=True\n",
    ")"
   ]
  },
  {
   "cell_type": "code",
   "execution_count": 29,
   "id": "57a4a559-58f0-4c52-877a-ddee3049be72",
   "metadata": {
    "scrolled": true
   },
   "outputs": [
    {
     "data": {
      "text/plain": [
       "0            1\n",
       "1           >4\n",
       "2        never\n",
       "3        never\n",
       "4            4\n",
       "         ...  \n",
       "19153        1\n",
       "19154        4\n",
       "19155        4\n",
       "19156        2\n",
       "19157        1\n",
       "Name: last_new_job, Length: 19158, dtype: category\n",
       "Categories (6, object): ['never' < '1' < '2' < '3' < '4' < '>4']"
      ]
     },
     "execution_count": 29,
     "metadata": {},
     "output_type": "execute_result"
    }
   ],
   "source": [
    "ds_jobs_transformed['last_new_job']"
   ]
  },
  {
   "cell_type": "markdown",
   "id": "07708e00-5914-4927-8c84-91188ae7d7d1",
   "metadata": {},
   "source": [
    "# Filtering"
   ]
  },
  {
   "cell_type": "markdown",
   "id": "8746bd4a-2f7a-4a41-b48f-3471cc29cbb6",
   "metadata": {},
   "source": [
    "Last task:\n",
    "- The DataFrame should be filtered to only contain students with *10 or more years of experience* at companies with *at least 1000 employees*, as their recruiter base is suited to more experienced professionals at enterprise companies.\n"
   ]
  },
  {
   "cell_type": "code",
   "execution_count": 30,
   "id": "6051ae39-af99-4e0e-afe9-50f746adcb98",
   "metadata": {},
   "outputs": [],
   "source": [
    "ds_jobs_transformed = ds_jobs_transformed[\n",
    "    (ds_jobs_transformed['experience'] >= '10')\n",
    "    &\n",
    "    (ds_jobs_transformed['company_size'] >= '1000-4999')\n",
    "].copy()"
   ]
  },
  {
   "cell_type": "markdown",
   "id": "13254f0e-a07a-4fe8-8e47-d85eb812e451",
   "metadata": {},
   "source": [
    "# Memory savings?"
   ]
  },
  {
   "cell_type": "code",
   "execution_count": 31,
   "id": "effd6f73-c72c-4259-b02b-f9d9555d258f",
   "metadata": {},
   "outputs": [
    {
     "name": "stdout",
     "output_type": "stream",
     "text": [
      "<class 'pandas.core.frame.DataFrame'>\n",
      "RangeIndex: 19158 entries, 0 to 19157\n",
      "Data columns (total 14 columns):\n",
      " #   Column                  Non-Null Count  Dtype  \n",
      "---  ------                  --------------  -----  \n",
      " 0   student_id              19158 non-null  int64  \n",
      " 1   city                    19158 non-null  object \n",
      " 2   city_development_index  19158 non-null  float64\n",
      " 3   gender                  14650 non-null  object \n",
      " 4   relevant_experience     19158 non-null  object \n",
      " 5   enrolled_university     18772 non-null  object \n",
      " 6   education_level         18698 non-null  object \n",
      " 7   major_discipline        16345 non-null  object \n",
      " 8   experience              19093 non-null  object \n",
      " 9   company_size            13220 non-null  object \n",
      " 10  company_type            13018 non-null  object \n",
      " 11  last_new_job            18735 non-null  object \n",
      " 12  training_hours          19158 non-null  int64  \n",
      " 13  job_change              19158 non-null  float64\n",
      "dtypes: float64(2), int64(2), object(10)\n",
      "memory usage: 2.0+ MB\n"
     ]
    }
   ],
   "source": [
    "ds_jobs.info()"
   ]
  },
  {
   "cell_type": "code",
   "execution_count": 32,
   "id": "b833df8a-f060-4911-9e81-45e8aa6e5d6e",
   "metadata": {},
   "outputs": [
    {
     "name": "stdout",
     "output_type": "stream",
     "text": [
      "<class 'pandas.core.frame.DataFrame'>\n",
      "Index: 2201 entries, 9 to 19143\n",
      "Data columns (total 14 columns):\n",
      " #   Column                  Non-Null Count  Dtype   \n",
      "---  ------                  --------------  -----   \n",
      " 0   student_id              2201 non-null   int32   \n",
      " 1   city                    2201 non-null   category\n",
      " 2   city_development_index  2201 non-null   float16 \n",
      " 3   gender                  1821 non-null   category\n",
      " 4   relevant_experience     2201 non-null   bool    \n",
      " 5   enrolled_university     2185 non-null   category\n",
      " 6   education_level         2184 non-null   category\n",
      " 7   major_discipline        2097 non-null   category\n",
      " 8   experience              2201 non-null   category\n",
      " 9   company_size            2201 non-null   category\n",
      " 10  company_type            2144 non-null   category\n",
      " 11  last_new_job            2184 non-null   category\n",
      " 12  training_hours          2201 non-null   int32   \n",
      " 13  job_change              2201 non-null   bool    \n",
      "dtypes: bool(2), category(9), float16(1), int32(2)\n",
      "memory usage: 69.5 KB\n"
     ]
    }
   ],
   "source": [
    "ds_jobs_transformed.info()"
   ]
  }
 ],
 "metadata": {
  "editor": "DataCamp Workspace",
  "kernelspec": {
   "display_name": "Customer Analytics (DataCamp Project)",
   "language": "python",
   "name": "customeranalyticskernel-datacampproject"
  },
  "language_info": {
   "codemirror_mode": {
    "name": "ipython",
    "version": 3
   },
   "file_extension": ".py",
   "mimetype": "text/x-python",
   "name": "python",
   "nbconvert_exporter": "python",
   "pygments_lexer": "ipython3",
   "version": "3.12.3"
  }
 },
 "nbformat": 4,
 "nbformat_minor": 5
}
